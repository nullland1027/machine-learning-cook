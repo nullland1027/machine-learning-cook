{
 "cells": [
  {
   "cell_type": "code",
   "execution_count": 3,
   "metadata": {
    "collapsed": true
   },
   "outputs": [],
   "source": [
    "import sklearn\n",
    "import numpy as np\n",
    "from sklearn.datasets import fetch_20newsgroups\n",
    "from sklearn.cluster import KMeans\n",
    "from sklearn.cluster import DBSCAN\n",
    "from matplotlib import pyplot as plt"
   ]
  },
  {
   "cell_type": "code",
   "execution_count": 80,
   "outputs": [],
   "source": [
    "def generate_data(miu, sigma, num):\n",
    "    \"\"\"\n",
    "    生成测试数据\n",
    "    :param miu: 期望\n",
    "    :param sigma: 标准差\n",
    "    :param num: 数据个数\n",
    "    :return:\n",
    "    \"\"\"\n",
    "    points_x = np.random.randn(num) * sigma + miu\n",
    "    points_y = np.random.randn(num) * sigma + miu\n",
    "    after = np.vstack((points_x, points_y))\n",
    "    return after.transpose()\n",
    "\n",
    "def draw(x, y):\n",
    "    plt.scatter(x, y, edgecolors='red')\n",
    "    plt.show()\n",
    "\n",
    "def draw_pred(x, y, classification_id, **kwargs):\n",
    "    colors = ['red', 'blue', 'green', 'yellow', 'black', 'orange', 'pink']\n",
    "    for i in range(len(classification_id)):\n",
    "        plt.scatter(x[i],  y[i], c=colors[classification_id[i]], s=50)\n",
    "    plt.show()\n",
    "\n",
    "\n",
    "\n",
    "def cg_axis_bias(array: np.ndarray, bias: int, axis: str):\n",
    "    \"\"\"\n",
    "    聚合点整体位移\n",
    "    :param bias:\n",
    "    :param array:\n",
    "    :param axis:\n",
    "    :return:\n",
    "    \"\"\"\n",
    "    if axis == 'x':\n",
    "        array[:, 0] += bias\n",
    "    if axis == 'y':\n",
    "        array[:, 1] += bias\n",
    "    else:\n",
    "        raise TypeError(\"parameter <axis> must be `x` or `y`!\")\n",
    "    return array"
   ],
   "metadata": {
    "collapsed": false,
    "pycharm": {
     "name": "#%%\n"
    }
   }
  },
  {
   "cell_type": "code",
   "execution_count": 86,
   "outputs": [
    {
     "data": {
      "text/plain": "array([[ -3.6886638 ,   0.24006796],\n       [ 13.71406904,  -6.69072974],\n       [  1.19799289,  -2.01901943],\n       [ -2.29778481, -10.39167956],\n       [  2.68383348,  -7.87693524],\n       [ -9.49886443,  -2.19443062],\n       [ -0.37106925,   1.91725018],\n       [ -0.24517439,   4.58434042],\n       [  0.6174644 ,  -0.76584297],\n       [  1.88535244,   5.01326422],\n       [  5.32005401,   9.96667231],\n       [ 24.21011172,   5.88987966],\n       [ 20.88066834,  12.38454408],\n       [ 15.99190066,   8.80213671],\n       [ 13.07075271,  13.5468176 ],\n       [ 11.15219329,  11.75433243],\n       [ 10.14347284,   7.88637749],\n       [ -1.66512471,  11.44180768],\n       [  7.5992949 ,  17.27905853],\n       [ 12.35039931,   4.67794935],\n       [  2.44515455,  12.35578086],\n       [  6.28731643,  11.17321137],\n       [ 11.29352748,  15.84344177],\n       [ 17.37653032,  12.52759458],\n       [ 11.66605912,   9.68703112],\n       [  9.65884877,   7.96069376],\n       [  4.2346426 ,  22.05501211],\n       [  4.96023327,  -1.35199336],\n       [ 12.53980611,  20.31099494],\n       [  5.88720849,  10.43816279],\n       [ 12.52315866,   7.55913829],\n       [  5.38812458,   9.31655229],\n       [ 13.2896315 ,   2.99789666],\n       [ 13.24598441,  18.18206096],\n       [ 22.65915358,  14.08855105],\n       [  9.86893547,  11.44256219],\n       [  5.64249697,   9.84848561],\n       [  9.11416147,   9.10075279],\n       [  2.82826428,  13.64854646],\n       [  9.43387054,   9.39516731],\n       [  0.10043436,  31.5932693 ],\n       [  0.38891186,  26.20464007],\n       [  9.50459218,  22.38489499],\n       [  9.90821689,  26.863788  ],\n       [ 14.69985159,  34.52921891],\n       [  7.61217238,  26.94340717],\n       [ 12.59601708,  25.76546191],\n       [  9.3484034 ,  21.98379387],\n       [  5.40714786,  20.38772865],\n       [  8.08875263,  26.83200376],\n       [ -2.55816968,  36.67584521],\n       [  9.17394873,  20.20768799],\n       [  3.70827385,  24.66333316],\n       [  3.02344658,  25.38017564],\n       [ 10.09437868,  20.192771  ],\n       [  7.21416817,  31.0862515 ],\n       [  5.6336852 ,  16.04671692],\n       [  9.54568092,  30.72615133],\n       [ -1.74449154,  26.85301136],\n       [  4.04430085,  24.35547582]])"
     },
     "execution_count": 86,
     "metadata": {},
     "output_type": "execute_result"
    }
   ],
   "source": [
    "class1 = generate_data(0, 5, 10)\n",
    "class2 = generate_data(10, 5, 30)\n",
    "class3 = generate_data(5, 5, 20)\n",
    "class3 = cg_axis_bias(class3, 20, 'y')\n",
    "combine = np.concatenate([class1, class2, class3], axis=0)\n",
    "combine"
   ],
   "metadata": {
    "collapsed": false,
    "pycharm": {
     "name": "#%%\n"
    }
   }
  },
  {
   "cell_type": "code",
   "execution_count": 87,
   "outputs": [
    {
     "data": {
      "text/plain": "<Figure size 432x288 with 1 Axes>",
      "image/png": "[encoded data removed]"
     },
     "metadata": {
      "needs_background": "light"
     },
     "output_type": "display_data"
    }
   ],
   "source": [
    "# k_means = KMeans(2).fit(combine)\n",
    "x = combine[:, 0]\n",
    "y = combine[:, 1]\n",
    "draw(x, y)"
   ],
   "metadata": {
    "collapsed": false,
    "pycharm": {
     "name": "#%%\n"
    }
   }
  },
  {
   "cell_type": "code",
   "execution_count": 88,
   "outputs": [
    {
     "name": "stdout",
     "output_type": "stream",
     "text": [
      "Initialization complete\n",
      "Iteration 0, inertia 3751.6791576457017\n",
      "Iteration 1, inertia 3044.7712069031213\n",
      "Iteration 2, inertia 2843.9277946901925\n",
      "Iteration 3, inertia 2808.0156722999996\n",
      "Converged at iteration 3: strict convergence.\n",
      "Initialization complete\n",
      "Iteration 0, inertia 3327.6257863020865\n",
      "Iteration 1, inertia 2852.18875853148\n",
      "Iteration 2, inertia 2820.661307893652\n",
      "Converged at iteration 2: strict convergence.\n",
      "Initialization complete\n",
      "Iteration 0, inertia 3709.0731668759854\n",
      "Iteration 1, inertia 2992.7132100501667\n",
      "Iteration 2, inertia 2827.414503279858\n",
      "Iteration 3, inertia 2820.661307893652\n",
      "Converged at iteration 3: strict convergence.\n",
      "Initialization complete\n",
      "Iteration 0, inertia 4009.0185791633153\n",
      "Iteration 1, inertia 2820.661307893652\n",
      "Converged at iteration 1: strict convergence.\n",
      "Initialization complete\n",
      "Iteration 0, inertia 4370.8622097453535\n",
      "Iteration 1, inertia 3538.784214345014\n",
      "Iteration 2, inertia 3346.966938347377\n",
      "Iteration 3, inertia 3214.494228498713\n",
      "Iteration 4, inertia 3121.8087602398487\n",
      "Iteration 5, inertia 3102.742410138069\n",
      "Iteration 6, inertia 3074.182265663104\n",
      "Iteration 7, inertia 2900.060554853752\n",
      "Iteration 8, inertia 2826.0878750361085\n",
      "Iteration 9, inertia 2820.661307893652\n",
      "Converged at iteration 9: strict convergence.\n",
      "Initialization complete\n",
      "Iteration 0, inertia 5540.926259592765\n",
      "Iteration 1, inertia 2852.9576923606655\n",
      "Iteration 2, inertia 2814.7066060212783\n",
      "Iteration 3, inertia 2808.0156722999996\n",
      "Converged at iteration 3: strict convergence.\n",
      "Initialization complete\n",
      "Iteration 0, inertia 5101.128356617473\n",
      "Iteration 1, inertia 4248.892794744364\n",
      "Iteration 2, inertia 4029.101735047956\n",
      "Iteration 3, inertia 3816.15146423228\n",
      "Iteration 4, inertia 3676.2984104377842\n",
      "Iteration 5, inertia 3488.6541018204816\n",
      "Iteration 6, inertia 3398.0399948425556\n",
      "Iteration 7, inertia 3310.087041998625\n",
      "Iteration 8, inertia 3191.99788925563\n",
      "Iteration 9, inertia 3037.370151057934\n",
      "Iteration 10, inertia 2835.9155139341356\n",
      "Iteration 11, inertia 2820.661307893652\n",
      "Converged at iteration 11: strict convergence.\n",
      "Initialization complete\n",
      "Iteration 0, inertia 4305.623271754127\n",
      "Iteration 1, inertia 2967.081180018509\n",
      "Iteration 2, inertia 2829.0186788433525\n",
      "Iteration 3, inertia 2808.0156722999996\n",
      "Converged at iteration 3: strict convergence.\n",
      "Initialization complete\n",
      "Iteration 0, inertia 4602.078649798118\n",
      "Iteration 1, inertia 3823.8625844777093\n",
      "Iteration 2, inertia 3681.2381862941224\n",
      "Iteration 3, inertia 3488.6541018204816\n",
      "Iteration 4, inertia 3398.0399948425556\n",
      "Iteration 5, inertia 3310.087041998625\n",
      "Iteration 6, inertia 3191.99788925563\n",
      "Iteration 7, inertia 3037.370151057934\n",
      "Iteration 8, inertia 2835.9155139341356\n",
      "Iteration 9, inertia 2820.661307893652\n",
      "Converged at iteration 9: strict convergence.\n",
      "Initialization complete\n",
      "Iteration 0, inertia 4382.027343636572\n",
      "Iteration 1, inertia 3444.143967775284\n",
      "Iteration 2, inertia 3171.781157665917\n",
      "Iteration 3, inertia 3144.483061093999\n",
      "Iteration 4, inertia 3128.756443863594\n",
      "Iteration 5, inertia 3109.6866851691825\n",
      "Iteration 6, inertia 3032.3044303538118\n",
      "Iteration 7, inertia 2867.686800348729\n",
      "Iteration 8, inertia 2826.0878750361085\n",
      "Iteration 9, inertia 2820.661307893652\n",
      "Converged at iteration 9: strict convergence.\n"
     ]
    }
   ],
   "source": [
    "kmeans = KMeans(n_clusters=3, init='k-means++', n_init=10, verbose=True).fit(X=combine)"
   ],
   "metadata": {
    "collapsed": false,
    "pycharm": {
     "name": "#%%\n"
    }
   }
  },
  {
   "cell_type": "code",
   "execution_count": 89,
   "outputs": [
    {
     "data": {
      "text/plain": "<Figure size 432x288 with 1 Axes>",
      "image/png": "[encoded data removed]"
     },
     "metadata": {
      "needs_background": "light"
     },
     "output_type": "display_data"
    }
   ],
   "source": [
    "classes = kmeans.predict(X=combine)\n",
    "draw_pred(x, y, classes)"
   ],
   "metadata": {
    "collapsed": false,
    "pycharm": {
     "name": "#%%\n"
    }
   }
  },
  {
   "cell_type": "code",
   "execution_count": null,
   "outputs": [],
   "source": [],
   "metadata": {
    "collapsed": false,
    "pycharm": {
     "name": "#%%\n"
    }
   }
  }
 ],
 "metadata": {
  "kernelspec": {
   "display_name": "Python 3",
   "language": "python",
   "name": "python3"
  },
  "language_info": {
   "codemirror_mode": {
    "name": "ipython",
    "version": 2
   },
   "file_extension": ".py",
   "mimetype": "text/x-python",
   "name": "python",
   "nbconvert_exporter": "python",
   "pygments_lexer": "ipython2",
   "version": "2.7.6"
  }
 },
 "nbformat": 4,
 "nbformat_minor": 0
}
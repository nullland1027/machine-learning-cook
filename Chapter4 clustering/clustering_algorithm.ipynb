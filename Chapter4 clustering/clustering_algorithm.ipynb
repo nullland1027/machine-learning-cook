{
 "cells": [
  {
   "cell_type": "code",
   "execution_count": 3,
   "metadata": {
    "collapsed": true
   },
   "outputs": [],
   "source": [
    "import sklearn\n",
    "import numpy as np\n",
    "from sklearn.datasets import fetch_20newsgroups\n",
    "from sklearn.cluster import KMeans\n",
    "from sklearn.cluster import DBSCAN\n",
    "from matplotlib import pyplot as plt"
   ]
  },
  {
   "cell_type": "code",
   "execution_count": 80,
   "outputs": [],
   "source": [
    "def generate_data(miu, sigma, num):\n",
    "    \"\"\"\n",
    "    生成测试数据\n",
    "    :param miu: 期望\n",
    "    :param sigma: 标准差\n",
    "    :param num: 数据个数\n",
    "    :return:\n",
    "    \"\"\"\n",
    "    points_x = np.random.randn(num) * sigma + miu\n",
    "    points_y = np.random.randn(num) * sigma + miu\n",
    "    after = np.vstack((points_x, points_y))\n",
    "    return after.transpose()\n",
    "\n",
    "def draw(x, y):\n",
    "    plt.scatter(x, y, edgecolors='red')\n",
    "    plt.show()\n",
    "\n",
    "def draw_pred(x, y, classification_id, **kwargs):\n",
    "    colors = ['red', 'blue', 'green', 'yellow', 'black', 'orange', 'pink']\n",
    "    for i in range(len(classification_id)):\n",
    "        plt.scatter(x[i],  y[i], c=colors[classification_id[i]], s=50)\n",
    "    plt.show()\n",
    "\n",
    "\n",
    "\n",
    "def cg_axis_bias(array: np.ndarray, bias: int, axis: str):\n",
    "    \"\"\"\n",
    "    聚合点整体位移\n",
    "    :param bias:\n",
    "    :param array:\n",
    "    :param axis:\n",
    "    :return:\n",
    "    \"\"\"\n",
    "    if axis == 'x':\n",
    "        array[:, 0] += bias\n",
    "    if axis == 'y':\n",
    "        array[:, 1] += bias\n",
    "    else:\n",
    "        raise TypeError(\"parameter <axis> must be `x` or `y`!\")\n",
    "    return array"
   ],
   "metadata": {
    "collapsed": false,
    "pycharm": {
     "name": "#%%\n"
    }
   }
  },
  {
   "cell_type": "code",
   "execution_count": 90,
   "outputs": [
    {
     "data": {
      "text/plain": "array([[ 3.58369057, -3.49460867],\n       [-1.91320361,  0.15464175],\n       [ 2.12207466,  1.90791214],\n       [ 2.82886286, -0.49564778],\n       [-1.9534931 , -0.76719203],\n       [ 2.41943943,  2.71256036],\n       [-2.72716352, -0.44966252],\n       [-1.03747965, -1.6519132 ],\n       [ 2.25521162,  0.87481276],\n       [-4.00736259, -1.81880938],\n       [ 9.83972581,  9.25049977],\n       [10.99694894, 11.29308742],\n       [ 9.40286912,  8.89731226],\n       [ 9.99395414, 12.11417353],\n       [ 9.25136078,  6.49218538],\n       [13.40470208,  8.52659233],\n       [ 9.21987529,  6.77286016],\n       [10.96004461, 12.43453495],\n       [ 9.15215766,  7.43757413],\n       [12.6526819 , 11.554479  ],\n       [ 5.1745935 ,  4.28784502],\n       [10.36149604, 12.2473306 ],\n       [11.62775107,  7.28098212],\n       [11.31284793,  9.24251298],\n       [ 8.03567586,  8.5512498 ],\n       [ 9.29302231,  9.88010148],\n       [10.63827578,  8.95554114],\n       [10.53512387, 10.37111219],\n       [11.97092538,  5.71910543],\n       [10.47931451,  8.91659212],\n       [10.27225041,  9.60372345],\n       [ 9.61635898,  9.60369377],\n       [11.38279301, 13.4169573 ],\n       [12.06982884, 10.42015882],\n       [ 7.14435702,  8.98025315],\n       [ 9.07268603,  5.37729279],\n       [10.06653586, 10.98944802],\n       [10.90784756,  4.79596888],\n       [12.54008597, 13.94557477],\n       [ 9.14467683,  6.86554668],\n       [ 4.9568483 , 24.51885414],\n       [ 6.36782994, 20.64870238],\n       [ 3.57920573, 22.9658215 ],\n       [ 4.18230225, 23.32271716],\n       [ 5.36585288, 26.63329831],\n       [ 3.24774476, 23.83198284],\n       [ 4.50654835, 28.11412338],\n       [ 3.94570841, 25.02650292],\n       [ 3.5932327 , 26.11555889],\n       [ 7.75941003, 26.65330214],\n       [ 3.48320554, 25.34110179],\n       [ 3.44281505, 20.83884158],\n       [ 5.17208346, 25.37664323],\n       [ 2.78057619, 24.30881596],\n       [ 6.01523399, 26.31958752],\n       [ 8.36625362, 25.23176403],\n       [ 8.23773111, 23.76710335],\n       [ 8.32692833, 26.0443758 ],\n       [ 3.23609514, 29.60349479],\n       [ 5.56840978, 23.22975105]])"
     },
     "execution_count": 90,
     "metadata": {},
     "output_type": "execute_result"
    }
   ],
   "source": [
    "class1 = generate_data(0, 2, 10)\n",
    "class2 = generate_data(10, 2, 30)\n",
    "class3 = generate_data(5, 2, 20)\n",
    "class3 = cg_axis_bias(class3, 20, 'y')\n",
    "combine = np.concatenate([class1, class2, class3], axis=0)\n",
    "combine"
   ],
   "metadata": {
    "collapsed": false,
    "pycharm": {
     "name": "#%%\n"
    }
   }
  },
  {
   "cell_type": "code",
   "execution_count": 91,
   "outputs": [
    {
     "data": {
      "text/plain": "<Figure size 432x288 with 1 Axes>",
      "image/png": "[encoded data removed]"
     },
     "metadata": {
      "needs_background": "light"
     },
     "output_type": "display_data"
    }
   ],
   "source": [
    "# k_means = KMeans(2).fit(combine)\n",
    "x = combine[:, 0]\n",
    "y = combine[:, 1]\n",
    "draw(x, y)"
   ],
   "metadata": {
    "collapsed": false,
    "pycharm": {
     "name": "#%%\n"
    }
   }
  },
  {
   "cell_type": "code",
   "execution_count": 92,
   "outputs": [
    {
     "name": "stdout",
     "output_type": "stream",
     "text": [
      "Initialization complete\n",
      "Iteration 0, inertia 1134.4082948837972\n",
      "Iteration 1, inertia 515.3010880624208\n",
      "Iteration 2, inertia 509.4075874850562\n",
      "Converged at iteration 2: strict convergence.\n",
      "Initialization complete\n",
      "Iteration 0, inertia 1093.96375004118\n",
      "Iteration 1, inertia 509.4075874850562\n",
      "Converged at iteration 1: strict convergence.\n",
      "Initialization complete\n",
      "Iteration 0, inertia 1021.3003432717156\n",
      "Iteration 1, inertia 515.3010880624208\n",
      "Iteration 2, inertia 509.4075874850562\n",
      "Converged at iteration 2: strict convergence.\n",
      "Initialization complete\n",
      "Iteration 0, inertia 678.6798957849264\n",
      "Iteration 1, inertia 509.4075874850562\n",
      "Converged at iteration 1: strict convergence.\n",
      "Initialization complete\n",
      "Iteration 0, inertia 738.6213325304475\n",
      "Iteration 1, inertia 509.4075874850562\n",
      "Converged at iteration 1: strict convergence.\n",
      "Initialization complete\n",
      "Iteration 0, inertia 1392.581443368946\n",
      "Iteration 1, inertia 515.3010880624208\n",
      "Iteration 2, inertia 509.4075874850562\n",
      "Converged at iteration 2: strict convergence.\n",
      "Initialization complete\n",
      "Iteration 0, inertia 687.1592791192842\n",
      "Iteration 1, inertia 509.4075874850562\n",
      "Converged at iteration 1: strict convergence.\n",
      "Initialization complete\n",
      "Iteration 0, inertia 1101.0988116052908\n",
      "Iteration 1, inertia 509.4075874850562\n",
      "Converged at iteration 1: strict convergence.\n",
      "Initialization complete\n",
      "Iteration 0, inertia 864.9163305703569\n",
      "Iteration 1, inertia 515.3010880624208\n",
      "Iteration 2, inertia 509.4075874850562\n",
      "Converged at iteration 2: strict convergence.\n",
      "Initialization complete\n",
      "Iteration 0, inertia 798.6682545496155\n",
      "Iteration 1, inertia 515.3010880624208\n",
      "Iteration 2, inertia 509.4075874850562\n",
      "Converged at iteration 2: strict convergence.\n"
     ]
    }
   ],
   "source": [
    "kmeans = KMeans(n_clusters=3, init='k-means++', n_init=10, verbose=True).fit(X=combine)"
   ],
   "metadata": {
    "collapsed": false,
    "pycharm": {
     "name": "#%%\n"
    }
   }
  },
  {
   "cell_type": "code",
   "execution_count": 93,
   "outputs": [
    {
     "data": {
      "text/plain": "<Figure size 432x288 with 1 Axes>",
      "image/png": "[encoded data removed]"
     },
     "metadata": {
      "needs_background": "light"
     },
     "output_type": "display_data"
    }
   ],
   "source": [
    "classes = kmeans.predict(X=combine)\n",
    "draw_pred(x, y, classes)"
   ],
   "metadata": {
    "collapsed": false,
    "pycharm": {
     "name": "#%%\n"
    }
   }
  },
  {
   "cell_type": "code",
   "execution_count": null,
   "outputs": [],
   "source": [],
   "metadata": {
    "collapsed": false,
    "pycharm": {
     "name": "#%%\n"
    }
   }
  }
 ],
 "metadata": {
  "kernelspec": {
   "display_name": "Python 3",
   "language": "python",
   "name": "python3"
  },
  "language_info": {
   "codemirror_mode": {
    "name": "ipython",
    "version": 2
   },
   "file_extension": ".py",
   "mimetype": "text/x-python",
   "name": "python",
   "nbconvert_exporter": "python",
   "pygments_lexer": "ipython2",
   "version": "2.7.6"
  }
 },
 "nbformat": 4,
 "nbformat_minor": 0
}